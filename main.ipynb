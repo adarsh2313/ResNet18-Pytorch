{
  "nbformat": 4,
  "nbformat_minor": 0,
  "metadata": {
    "colab": {
      "name": "main.ipynb",
      "provenance": [],
      "collapsed_sections": [],
      "authorship_tag": "ABX9TyM/RZyBNw+yZHsgTXCHmrlc",
      "include_colab_link": true
    },
    "kernelspec": {
      "name": "python3",
      "display_name": "Python 3"
    },
    "language_info": {
      "name": "python"
    },
    "accelerator": "GPU"
  },
  "cells": [
    {
      "cell_type": "markdown",
      "metadata": {
        "id": "view-in-github",
        "colab_type": "text"
      },
      "source": [
        "<a href=\"https://colab.research.google.com/github/adarsh2313/ResNet18-Pytorch/blob/main/main.ipynb\" target=\"_parent\"><img src=\"https://colab.research.google.com/assets/colab-badge.svg\" alt=\"Open In Colab\"/></a>"
      ]
    },
    {
      "cell_type": "code",
      "metadata": {
        "id": "ZipDjuIqJ80I",
        "colab": {
          "base_uri": "https://localhost:8080/"
        },
        "outputId": "56e9ba95-47b6-48cf-d827-5c7977c7aaca"
      },
      "source": [
        "from google.colab import drive\n",
        "drive.mount('/content/drive')"
      ],
      "execution_count": 1,
      "outputs": [
        {
          "output_type": "stream",
          "name": "stdout",
          "text": [
            "Mounted at /content/drive\n"
          ]
        }
      ]
    },
    {
      "cell_type": "code",
      "metadata": {
        "id": "S-91Ty34YzXt"
      },
      "source": [
        "import torch\n",
        "import torch.nn as nn\n",
        "import torch.optim as optim\n",
        "device = torch.device(\"cuda\")"
      ],
      "execution_count": 2,
      "outputs": []
    },
    {
      "cell_type": "code",
      "metadata": {
        "id": "DWx-C2ULZFk3"
      },
      "source": [
        "from resnet import model\n",
        "from dataset import train_dl,test_dl"
      ],
      "execution_count": 3,
      "outputs": []
    },
    {
      "cell_type": "code",
      "metadata": {
        "colab": {
          "base_uri": "https://localhost:8080/"
        },
        "id": "Y_2NPqih6mfT",
        "outputId": "d83fe30b-8d02-4dc4-840d-051a80c7838c"
      },
      "source": [
        "torch.cuda.empty_cache()\n",
        "model.cuda()"
      ],
      "execution_count": 4,
      "outputs": [
        {
          "output_type": "execute_result",
          "data": {
            "text/plain": [
              "ResNet18(\n",
              "  (conv1): Conv2d(3, 64, kernel_size=(7, 7), stride=(2, 2), padding=(3, 3), bias=False)\n",
              "  (bn): BatchNorm2d(64, eps=1e-05, momentum=0.1, affine=True, track_running_stats=True)\n",
              "  (maxpool): MaxPool2d(kernel_size=3, stride=2, padding=1, dilation=1, ceil_mode=False)\n",
              "  (layer0): block0(\n",
              "    (conv): Conv2d(64, 64, kernel_size=(3, 3), stride=(1, 1), padding=same, bias=False)\n",
              "    (bn): BatchNorm2d(64, eps=1e-05, momentum=0.1, affine=True, track_running_stats=True)\n",
              "  )\n",
              "  (layer1): block(\n",
              "    (conv_stride2): Conv2d(64, 128, kernel_size=(3, 3), stride=(2, 2), padding=(1, 1), bias=False)\n",
              "    (bn): BatchNorm2d(128, eps=1e-05, momentum=0.1, affine=True, track_running_stats=True)\n",
              "    (conv_stride1): Conv2d(128, 128, kernel_size=(3, 3), stride=(1, 1), padding=same, bias=False)\n",
              "    (resize): Conv2d(64, 128, kernel_size=(1, 1), stride=(2, 2), bias=False)\n",
              "  )\n",
              "  (layer2): block(\n",
              "    (conv_stride2): Conv2d(128, 256, kernel_size=(3, 3), stride=(2, 2), padding=(1, 1), bias=False)\n",
              "    (bn): BatchNorm2d(256, eps=1e-05, momentum=0.1, affine=True, track_running_stats=True)\n",
              "    (conv_stride1): Conv2d(256, 256, kernel_size=(3, 3), stride=(1, 1), padding=same, bias=False)\n",
              "    (resize): Conv2d(128, 256, kernel_size=(1, 1), stride=(2, 2), bias=False)\n",
              "  )\n",
              "  (layer3): block(\n",
              "    (conv_stride2): Conv2d(256, 512, kernel_size=(3, 3), stride=(2, 2), padding=(1, 1), bias=False)\n",
              "    (bn): BatchNorm2d(512, eps=1e-05, momentum=0.1, affine=True, track_running_stats=True)\n",
              "    (conv_stride1): Conv2d(512, 512, kernel_size=(3, 3), stride=(1, 1), padding=same, bias=False)\n",
              "    (resize): Conv2d(256, 512, kernel_size=(1, 1), stride=(2, 2), bias=False)\n",
              "  )\n",
              "  (avgpool): AdaptiveAvgPool2d(output_size=(1, 1))\n",
              "  (fc1): Linear(in_features=512, out_features=5, bias=True)\n",
              ")"
            ]
          },
          "metadata": {},
          "execution_count": 4
        }
      ]
    },
    {
      "cell_type": "markdown",
      "metadata": {
        "id": "y17Sz8ZJa0jM"
      },
      "source": [
        "Training functions:\n"
      ]
    },
    {
      "cell_type": "code",
      "metadata": {
        "id": "n5fp_BFF6Ksx"
      },
      "source": [
        "optimizer = optim.Adam(model.parameters(), lr = 0.01)\n",
        "lossfn = nn.CrossEntropyLoss()\n",
        "epochs = 50"
      ],
      "execution_count": 5,
      "outputs": []
    },
    {
      "cell_type": "code",
      "metadata": {
        "colab": {
          "base_uri": "https://localhost:8080/"
        },
        "id": "K-Mahy5Q90pF",
        "outputId": "1e72a510-6fe3-48a4-8bc6-836d2658252e"
      },
      "source": [
        "for epoch in range(epochs):\n",
        "  \n",
        "  epoch_loss,epoch_acc = 0,0\n",
        "  model.train()\n",
        "\n",
        "  for input,label in train_dl:\n",
        "\n",
        "    input = input.cuda()\n",
        "    label = label.cuda()\n",
        "\n",
        "    pred = model(input)\n",
        "    loss = lossfn(pred,label)\n",
        "\n",
        "    optimizer.zero_grad()\n",
        "    loss.backward()\n",
        "    optimizer.step()\n",
        "\n",
        "    acc = ((pred.argmax(dim=1) == label).float().mean())\n",
        "    epoch_acc += acc/len(train_dl)\n",
        "    epoch_loss += loss.item()/len(train_dl)\n",
        "\n",
        "  if (epoch+1)%5 == 0:\n",
        "    print(\"For epoch\",epoch+1,\": Loss = {:.2f}\".format(epoch_loss),\"and Accuaracy = {:.2f}\".format(float(epoch_acc*100)))"
      ],
      "execution_count": 7,
      "outputs": [
        {
          "output_type": "stream",
          "name": "stdout",
          "text": [
            "For epoch 5 : Loss = 0.93 and Accuaracy = 64.10\n",
            "For epoch 10 : Loss = 0.82 and Accuaracy = 67.99\n",
            "For epoch 15 : Loss = 0.74 and Accuaracy = 72.68\n",
            "For epoch 20 : Loss = 0.48 and Accuaracy = 83.30\n",
            "For epoch 25 : Loss = 0.42 and Accuaracy = 85.00\n",
            "For epoch 30 : Loss = 0.37 and Accuaracy = 87.53\n",
            "For epoch 35 : Loss = 0.16 and Accuaracy = 94.33\n",
            "For epoch 40 : Loss = 0.24 and Accuaracy = 91.67\n",
            "For epoch 45 : Loss = 0.10 and Accuaracy = 96.75\n",
            "For epoch 50 : Loss = 0.16 and Accuaracy = 95.00\n"
          ]
        }
      ]
    },
    {
      "cell_type": "markdown",
      "metadata": {
        "id": "EcxUHIbDVG6q"
      },
      "source": [
        "Validation function:\n"
      ]
    },
    {
      "cell_type": "code",
      "metadata": {
        "colab": {
          "base_uri": "https://localhost:8080/"
        },
        "id": "jhY9xrfWrMK2",
        "outputId": "e95219bc-22de-42aa-8f85-a0a103d0c5f2"
      },
      "source": [
        "with torch.no_grad():\n",
        "\n",
        "  epoch_acc = 0\n",
        "    \n",
        "  for input,label in test_dl:\n",
        "      \n",
        "    input = input.cuda()\n",
        "    label = label.cuda()\n",
        "\n",
        "    pred = model(input)\n",
        "    \n",
        "    acc = ((pred.argmax(dim=1) == label).float().mean())\n",
        "    epoch_acc += acc/len(test_dl)\n",
        "  \n",
        "print(\"Accuaracy = {:.2f}\".format(float(epoch_acc*100)))"
      ],
      "execution_count": 37,
      "outputs": [
        {
          "output_type": "stream",
          "name": "stdout",
          "text": [
            "Accuaracy = 19.61\n"
          ]
        }
      ]
    },
    {
      "cell_type": "markdown",
      "metadata": {
        "id": "0-_0HCOXtd79"
      },
      "source": [
        "Getting 95% accuracy rate while training but only 19.61% on validation; possible case of model overfitting. Rectify that"
      ]
    }
  ]
}