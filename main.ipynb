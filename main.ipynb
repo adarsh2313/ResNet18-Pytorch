{
  "nbformat": 4,
  "nbformat_minor": 0,
  "metadata": {
    "colab": {
      "name": "main.ipynb",
      "provenance": [],
      "authorship_tag": "ABX9TyNG9yLU0ZzeX/SkWG1GSOPC",
      "include_colab_link": true
    },
    "kernelspec": {
      "name": "python3",
      "display_name": "Python 3"
    },
    "language_info": {
      "name": "python"
    },
    "accelerator": "GPU"
  },
  "cells": [
    {
      "cell_type": "markdown",
      "metadata": {
        "id": "view-in-github",
        "colab_type": "text"
      },
      "source": [
        "<a href=\"https://colab.research.google.com/github/adarsh2313/ResNet18-Pytorch/blob/main/main.ipynb\" target=\"_parent\"><img src=\"https://colab.research.google.com/assets/colab-badge.svg\" alt=\"Open In Colab\"/></a>"
      ]
    },
    {
      "cell_type": "code",
      "metadata": {
        "id": "ZipDjuIqJ80I",
        "colab": {
          "base_uri": "https://localhost:8080/"
        },
        "outputId": "24582175-99c8-4687-c66d-73cb16ee8219"
      },
      "source": [
        "from google.colab import drive\n",
        "drive.mount('/content/drive')"
      ],
      "execution_count": 1,
      "outputs": [
        {
          "output_type": "stream",
          "name": "stdout",
          "text": [
            "Mounted at /content/drive\n"
          ]
        }
      ]
    },
    {
      "cell_type": "code",
      "metadata": {
        "id": "S-91Ty34YzXt"
      },
      "source": [
        "import torch\n",
        "import torch.nn as nn\n",
        "import torch.optim as optim\n",
        "device = torch.device(\"cuda\")"
      ],
      "execution_count": 2,
      "outputs": []
    },
    {
      "cell_type": "code",
      "metadata": {
        "id": "DWx-C2ULZFk3"
      },
      "source": [
        "from resnet import model\n",
        "from dataset import X_train,Y_train,X_test,Y_test"
      ],
      "execution_count": 4,
      "outputs": []
    },
    {
      "cell_type": "markdown",
      "metadata": {
        "id": "y17Sz8ZJa0jM"
      },
      "source": [
        "Training functions:\n"
      ]
    },
    {
      "cell_type": "code",
      "metadata": {
        "id": "h9XIawnkbvAv"
      },
      "source": [
        "X_train,Y_train,X_test,Y_test = X_train.cuda(),Y_train.cuda(),X_test.cuda(),Y_test.cuda()\n",
        "model = model.cuda()"
      ],
      "execution_count": 9,
      "outputs": []
    },
    {
      "cell_type": "code",
      "metadata": {
        "id": "QBNqrYJ7a_F4"
      },
      "source": [
        "optimizer = optim.SGD(model.parameters(), lr=0.005)\n",
        "lossfn = nn.MSELoss()\n",
        "n_epochs = 30\n",
        "batch_size = 32"
      ],
      "execution_count": 10,
      "outputs": []
    },
    {
      "cell_type": "code",
      "metadata": {
        "colab": {
          "base_uri": "https://localhost:8080/"
        },
        "id": "rNXzDXXu5hsS",
        "outputId": "47ce51f3-c1b0-4db0-8dcb-54840fab0b97"
      },
      "source": [
        "for epoch in range(n_epochs):\n",
        "  model.train()\n",
        "  torch.manual_seed(101)\n",
        "  permutation = torch.randperm(X_train.size()[0])\n",
        "\n",
        "  for i in range(0,X_train.size()[0], batch_size):\n",
        "    indices = permutation[i:i+batch_size]\n",
        "    batch_x, batch_y = X_train[indices], Y_train[indices]\n",
        "    batch_x, batch_y = batch_x.cuda(), batch_y.cuda()\n",
        "\n",
        "    pred = model(batch_x)\n",
        "    loss = lossfn(pred,batch_y)\n",
        "    optimizer.zero_grad()\n",
        "    loss.backward()\n",
        "    optimizer.step()\n",
        "\n",
        "  if epoch % 5 == 0:\n",
        "    print('Loss:',loss.item())"
      ],
      "execution_count": 11,
      "outputs": [
        {
          "output_type": "stream",
          "name": "stderr",
          "text": [
            "/usr/local/lib/python3.7/dist-packages/torch/nn/functional.py:718: UserWarning: Named tensors and all their associated APIs are an experimental feature and subject to change. Please do not use them for anything important until they are released as stable. (Triggered internally at  /pytorch/c10/core/TensorImpl.h:1156.)\n",
            "  return torch.max_pool2d(input, kernel_size, stride, padding, dilation, ceil_mode)\n"
          ]
        },
        {
          "output_type": "stream",
          "name": "stdout",
          "text": [
            "Loss: 0.18846559524536133\n",
            "Loss: 0.05573441833257675\n",
            "Loss: 0.023508582264184952\n",
            "Loss: 0.02243628539144993\n",
            "Loss: 0.03164361044764519\n",
            "Loss: 0.0209966991096735\n"
          ]
        }
      ]
    },
    {
      "cell_type": "markdown",
      "metadata": {
        "id": "Ozet3Yxx7mWI"
      },
      "source": [
        "Check for calculation of prediction rate and store all the losses in a list, to plot a graph (for both train and test set)"
      ]
    }
  ]
}